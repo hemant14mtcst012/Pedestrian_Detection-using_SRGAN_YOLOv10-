{
  "nbformat": 4,
  "nbformat_minor": 0,
  "metadata": {
    "colab": {
      "provenance": [],
      "gpuType": "T4"
    },
    "kernelspec": {
      "name": "python3",
      "display_name": "Python 3"
    },
    "language_info": {
      "name": "python"
    },
    "accelerator": "GPU"
  },
  "cells": [
    {
      "cell_type": "code",
      "execution_count": null,
      "metadata": {
        "colab": {
          "base_uri": "https://localhost:8080/"
        },
        "id": "v8jBQUYGWLLE",
        "outputId": "51beed3d-1af9-42d8-d1c4-a86c245bd132"
      },
      "outputs": [
        {
          "output_type": "stream",
          "name": "stdout",
          "text": [
            "/content/drive/MyDrive/ESRGAN-master\n"
          ]
        }
      ],
      "source": [
        "cd /content/drive/MyDrive/ESRGAN-master"
      ]
    },
    {
      "cell_type": "code",
      "source": [
        "!pip install torch torchvision torchaudio"
      ],
      "metadata": {
        "id": "cH0gZQ5NWbQt",
        "colab": {
          "base_uri": "https://localhost:8080/"
        },
        "outputId": "cb938ec2-a92e-4167-e870-5ba94e8689c5"
      },
      "execution_count": null,
      "outputs": [
        {
          "output_type": "stream",
          "name": "stdout",
          "text": [
            "Requirement already satisfied: torch in /usr/local/lib/python3.10/dist-packages (2.4.1+cu121)\n",
            "Requirement already satisfied: torchvision in /usr/local/lib/python3.10/dist-packages (0.19.1+cu121)\n",
            "Requirement already satisfied: torchaudio in /usr/local/lib/python3.10/dist-packages (2.4.1+cu121)\n",
            "Requirement already satisfied: filelock in /usr/local/lib/python3.10/dist-packages (from torch) (3.16.1)\n",
            "Requirement already satisfied: typing-extensions>=4.8.0 in /usr/local/lib/python3.10/dist-packages (from torch) (4.12.2)\n",
            "Requirement already satisfied: sympy in /usr/local/lib/python3.10/dist-packages (from torch) (1.13.3)\n",
            "Requirement already satisfied: networkx in /usr/local/lib/python3.10/dist-packages (from torch) (3.4)\n",
            "Requirement already satisfied: jinja2 in /usr/local/lib/python3.10/dist-packages (from torch) (3.1.4)\n",
            "Requirement already satisfied: fsspec in /usr/local/lib/python3.10/dist-packages (from torch) (2024.6.1)\n",
            "Requirement already satisfied: numpy in /usr/local/lib/python3.10/dist-packages (from torchvision) (1.26.4)\n",
            "Requirement already satisfied: pillow!=8.3.*,>=5.3.0 in /usr/local/lib/python3.10/dist-packages (from torchvision) (10.4.0)\n",
            "Requirement already satisfied: MarkupSafe>=2.0 in /usr/local/lib/python3.10/dist-packages (from jinja2->torch) (3.0.1)\n",
            "Requirement already satisfied: mpmath<1.4,>=1.1.0 in /usr/local/lib/python3.10/dist-packages (from sympy->torch) (1.3.0)\n"
          ]
        }
      ]
    },
    {
      "cell_type": "code",
      "source": [
        "!pip install opencv-python glob2"
      ],
      "metadata": {
        "id": "SE3GVZcZWUmI",
        "colab": {
          "base_uri": "https://localhost:8080/"
        },
        "outputId": "4324cbea-59da-4692-e915-c6765fa687f8"
      },
      "execution_count": null,
      "outputs": [
        {
          "output_type": "stream",
          "name": "stdout",
          "text": [
            "Requirement already satisfied: opencv-python in /usr/local/lib/python3.10/dist-packages (4.10.0.84)\n",
            "Requirement already satisfied: glob2 in /usr/local/lib/python3.10/dist-packages (0.7)\n",
            "Requirement already satisfied: numpy>=1.21.2 in /usr/local/lib/python3.10/dist-packages (from opencv-python) (1.26.4)\n"
          ]
        }
      ]
    },
    {
      "cell_type": "code",
      "source": [
        "!python test.py"
      ],
      "metadata": {
        "colab": {
          "base_uri": "https://localhost:8080/"
        },
        "id": "o3Xl7BsftETP",
        "outputId": "43621018-2df9-404a-e3c1-b4c731be4cb4"
      },
      "execution_count": 19,
      "outputs": [
        {
          "output_type": "stream",
          "name": "stdout",
          "text": [
            "/content/drive/MyDrive/ESRGAN-master/test.py:15: FutureWarning: You are using `torch.load` with `weights_only=False` (the current default value), which uses the default pickle module implicitly. It is possible to construct malicious pickle data which will execute arbitrary code during unpickling (See https://github.com/pytorch/pytorch/blob/main/SECURITY.md#untrusted-models for more details). In a future release, the default value for `weights_only` will be flipped to `True`. This limits the functions that could be executed during unpickling. Arbitrary objects will no longer be allowed to be loaded via this mode unless they are explicitly allowlisted by the user via `torch.serialization.add_safe_globals`. We recommend you start setting `weights_only=True` for any use case where you don't have full control of the loaded file. Please open an issue on GitHub for any issues related to this experimental feature.\n",
            "  model.load_state_dict(torch.load(model_path), strict=True)\n",
            "Model path models/RRDB_ESRGAN_x4.pth. \n",
            "Testing...\n",
            "1 LR_1496728633314\n",
            "2 LR_1496728833518\n",
            "3 LR_1496728683465\n",
            "4 LR_1496728871057\n",
            "5 LR_1496728558276\n",
            "6 LR_1496728971354\n",
            "7 LR_1496729302578\n",
            "8 LR_1496728996353\n",
            "9 LR_1496729353247\n",
            "10 LR_1496729487860\n",
            "11 LR_1496729501073\n",
            "12 LR_1496735100251\n",
            "13 LR_1496729577856\n",
            "14 LR_1496783253994\n",
            "15 LR_1496735577534\n",
            "16 LR_1496783510237\n",
            "17 LR_1496783874976\n",
            "18 LR_1496783919842\n",
            "19 LR_1496783750222\n",
            "20 LR_1496785430531\n",
            "21 LR_1496785018926\n",
            "22 LR_1496785636054\n",
            "23 LR_1496786109909\n",
            "24 LR_1496785687434\n",
            "25 LR_1496785985414\n",
            "26 LR_1496786733865\n",
            "27 LR_1496787568401\n",
            "28 LR_1496788227939\n",
            "29 LR_1496788183276\n",
            "30 LR_1496787358081\n",
            "31 LR_1496788238484\n",
            "32 LR_1496789067314\n",
            "33 LR_1496789294154\n",
            "34 LR_1496789325338\n",
            "35 LR_1496789526828\n",
            "36 LR_1496789461604\n",
            "37 LR_1496789537998\n",
            "38 LR_1496789686042\n",
            "39 LR_1496789640412\n",
            "40 LR_1496789583706\n",
            "41 LR_1496789743310\n",
            "42 LR_1496789776616\n",
            "43 LR_1496789855022\n",
            "44 LR_1496789942054\n",
            "45 LR_1496790190578\n",
            "46 LR_1496790293445\n",
            "47 LR_1496793636684\n",
            "48 LR_1496793659731\n",
            "49 LR_1496793830305\n",
            "50 LR_1496793965512\n",
            "51 LR_1496793841337\n",
            "52 LR_1496793955227\n",
            "53 LR_1496794550996\n",
            "54 LR_1496795772097\n",
            "55 LR_1496795837321\n",
            "56 LR_1496795804577\n",
            "57 LR_1496795882311\n",
            "58 LR_1496795985194\n",
            "59 LR_1496798069485\n",
            "60 LR_1496798582371\n",
            "61 LR_1496798547943\n",
            "62 LR_1496798236898\n",
            "63 LR_1496802708762\n",
            "64 LR_1496802720244\n",
            "65 LR_1496803296259\n",
            "66 LR_1496803310299\n",
            "67 LR_1496803305339\n",
            "68 LR_1496803362903\n",
            "69 LR_1496803835942\n",
            "70 LR_1496803858984\n",
            "71 LR_1496803859077\n",
            "72 LR_1496803901213\n",
            "73 LR_1496822864240\n",
            "74 LR_1496822598949\n",
            "75 LR_1496822988276\n",
            "76 LR_1496823270363\n",
            "77 LR_1496823314086\n",
            "78 LR_1496823358614\n",
            "79 LR_1496828134567\n",
            "80 LR_1496828313296\n",
            "81 LR_1496828346430\n",
            "82 LR_1496823357110\n",
            "83 LR_1496828427766\n",
            "84 LR_1496828495236\n",
            "85 LR_1496828381653\n",
            "86 LR_1496828404678\n",
            "87 LR_1496828416191\n",
            "88 LR_1496828716328\n",
            "89 LR_1496828529588\n",
            "90 LR_1496828728026\n",
            "91 LR_1496828775354\n",
            "92 LR_1496828835299\n",
            "93 LR_1496828906076\n",
            "94 LR_1496828941223\n",
            "95 LR_1496829011672\n",
            "96 LR_1496829059487\n",
            "97 LR_1496829083339\n",
            "98 LR_1496829203136\n",
            "99 LR_1496829301022\n",
            "100 LR_1496829665154\n",
            "101 LR_1496829735386\n",
            "102 LR_1496830914874\n",
            "103 LR_1496830925210\n",
            "104 LR_1496831236394\n",
            "105 LR_1496831246643\n",
            "106 LR_1496831130896\n",
            "107 LR_1496831421287\n",
            "108 LR_1496831657248\n",
            "109 LR_1496840995559\n",
            "110 LR_1496841102255\n",
            "111 LR_1496841123854\n",
            "112 LR_1496841113093\n",
            "113 LR_1496841138204\n",
            "114 LR_1496841496411\n",
            "115 LR_1496841188373\n",
            "116 LR_1496841190652\n",
            "117 LR_1496841474943\n",
            "118 LR_1496841750135\n",
            "119 LR_1496841924842\n",
            "120 LR_1496841947868\n",
            "121 LR_1496841970893\n",
            "122 LR_1496842005463\n",
            "123 LR_1496842132291\n",
            "124 LR_1496842189918\n",
            "125 LR_1496842743266\n",
            "126 LR_1496842870017\n",
            "127 LR_1496843192875\n",
            "128 LR_1496842939172\n",
            "129 LR_1496843215900\n",
            "130 LR_1496843319625\n",
            "131 LR_1496843884564\n",
            "132 LR_1496843561597\n",
            "133 LR_1496843446375\n",
            "134 LR_1496843965154\n",
            "135 LR_1496844172681\n",
            "136 LR_1496844357510\n",
            "137 LR_1496844507302\n",
            "138 LR_1496844588048\n",
            "139 LR_1496844806854\n",
            "140 LR_1496844910828\n",
            "141 LR_1496844657140\n",
            "142 LR_1496844968392\n",
            "143 LR_1496844956879\n",
            "144 LR_1496846016995\n",
            "145 LR_1496846063139\n",
            "146 LR_1496846374485\n",
            "147 LR_1496846915837\n",
            "148 LR_1496845613671\n",
            "149 LR_1496847099948\n",
            "150 LR_1496876228352\n",
            "151 LR_1496848252416\n",
            "152 LR_1496876279306\n",
            "153 LR_1496876207114\n",
            "154 LR_1496876352305\n",
            "155 LR_1496876354624\n",
            "156 LR_1496876486754\n",
            "157 LR_1496876590668\n",
            "158 LR_1496876582085\n",
            "159 LR_1496876632115\n",
            "160 LR_1496876631696\n",
            "161 LR_1496876703594\n",
            "162 LR_1496876652195\n",
            "163 LR_1496876707265\n",
            "164 LR_1496876719764\n",
            "165 LR_1496876724093\n",
            "166 LR_1496876734343\n",
            "167 LR_1496876775343\n",
            "168 LR_1496876785592\n",
            "169 LR_1496876795911\n",
            "170 LR_1496876819943\n",
            "171 LR_1496877005087\n",
            "172 LR_1496876994838\n",
            "173 LR_1496877132163\n",
            "174 LR_1496877099270\n",
            "175 LR_1496877982598\n",
            "176 LR_1496877269011\n",
            "177 LR_1496877657435\n",
            "178 LR_1496877456115\n",
            "179 LR_1496878017198\n",
            "180 LR_1496878074841\n",
            "181 LR_1496878151421\n",
            "182 LR_1496878209094\n",
            "183 LR_1496878232120\n",
            "184 LR_1496878312788\n",
            "185 LR_1496878439554\n",
            "186 LR_1496878474217\n",
            "187 LR_1496878370477\n",
            "188 LR_1496878713849\n",
            "189 LR_1496878734987\n",
            "190 LR_1496878825202\n",
            "191 LR_1496879215936\n",
            "192 LR_1496879262034\n",
            "193 LR_1496879699568\n",
            "194 LR_1496880409229\n",
            "195 LR_1496880501331\n",
            "196 LR_1496880662589\n",
            "197 LR_1496880674101\n",
            "198 LR_1496883673765\n",
            "199 LR_1496883642120\n",
            "200 LR_1496884153002\n"
          ]
        }
      ]
    }
  ]
}